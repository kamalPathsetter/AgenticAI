{
 "cells": [
  {
   "cell_type": "code",
   "execution_count": 1,
   "id": "7d772a4c",
   "metadata": {},
   "outputs": [],
   "source": [
    "from dataclasses import dataclass\n",
    "\n",
    "@dataclass\n",
    "class Person:\n",
    "    name: str\n",
    "    age: int\n",
    "    city: str"
   ]
  },
  {
   "cell_type": "code",
   "execution_count": 2,
   "id": "eb1c1ae6",
   "metadata": {},
   "outputs": [
    {
     "name": "stdout",
     "output_type": "stream",
     "text": [
      "Person(name='John', age=30, city='New York')\n"
     ]
    }
   ],
   "source": [
    "person = Person(name=\"John\", age=30, city=\"New York\")\n",
    "print(person)"
   ]
  },
  {
   "cell_type": "code",
   "execution_count": 3,
   "id": "09b542bf",
   "metadata": {},
   "outputs": [
    {
     "name": "stdout",
     "output_type": "stream",
     "text": [
      "Person(name='John', age=30, city=123)\n"
     ]
    }
   ],
   "source": [
    "person2 = Person(name=\"John\", age=30, city=123)\n",
    "print(person2)"
   ]
  },
  {
   "cell_type": "code",
   "execution_count": 5,
   "id": "4eb0ee53",
   "metadata": {},
   "outputs": [
    {
     "name": "stdout",
     "output_type": "stream",
     "text": [
      "name='John' age=30 city='New York'\n"
     ]
    }
   ],
   "source": [
    "from pydantic import BaseModel\n",
    "\n",
    "class Person(BaseModel):\n",
    "    name: str\n",
    "    age: int\n",
    "    city: str\n",
    "    \n",
    "person = Person(name=\"John\", age=30, city=\"New York\")\n",
    "print(person)"
   ]
  },
  {
   "cell_type": "code",
   "execution_count": 8,
   "id": "ec3c8acd",
   "metadata": {},
   "outputs": [
    {
     "name": "stdout",
     "output_type": "stream",
     "text": [
      "1 validation error for Person\n",
      "city\n",
      "  Input should be a valid string [type=string_type, input_value=123, input_type=int]\n",
      "    For further information visit https://errors.pydantic.dev/2.11/v/string_type\n"
     ]
    }
   ],
   "source": [
    "try:\n",
    "    person = Person(name=\"John\", age=30, city=123)\n",
    "    print(person)\n",
    "except Exception as e:\n",
    "    print(e)"
   ]
  },
  {
   "cell_type": "code",
   "execution_count": 9,
   "id": "6c0b316e",
   "metadata": {},
   "outputs": [
    {
     "name": "stdout",
     "output_type": "stream",
     "text": [
      "name='John' age=30 city='New York' salary=30000 is_full_time=True\n"
     ]
    }
   ],
   "source": [
    "from typing import Optional\n",
    "\n",
    "class Employee(BaseModel):\n",
    "    name: str\n",
    "    age: int\n",
    "    city: str\n",
    "    salary: Optional[int] = 30000\n",
    "    is_full_time: Optional[bool] = True\n",
    "\n",
    "employee = Employee(name=\"John\", age=30, city=\"New York\")\n",
    "print(employee)"
   ]
  },
  {
   "cell_type": "code",
   "execution_count": 10,
   "id": "16dbf7f5",
   "metadata": {},
   "outputs": [
    {
     "name": "stdout",
     "output_type": "stream",
     "text": [
      "name='John' age=30 city='New York' salary=50000 is_full_time=True\n"
     ]
    }
   ],
   "source": [
    "employee = Employee(name=\"John\", age=30, city=\"New York\", salary=50000, is_full_time=True)\n",
    "print(employee)"
   ]
  },
  {
   "cell_type": "code",
   "execution_count": 14,
   "id": "76326d17",
   "metadata": {},
   "outputs": [],
   "source": [
    "from typing import List\n",
    "\n",
    "class Classroom(BaseModel):\n",
    "    classroom_id: str\n",
    "    students: List[str]\n",
    "    capacity: int"
   ]
  },
  {
   "cell_type": "code",
   "execution_count": 16,
   "id": "164d3f97",
   "metadata": {},
   "outputs": [
    {
     "name": "stdout",
     "output_type": "stream",
     "text": [
      "classroom_id='123' students=['John', 'Jane', 'Bob'] capacity=30\n"
     ]
    }
   ],
   "source": [
    "classroom = Classroom(\n",
    "    classroom_id=\"123\",\n",
    "    students=(\"John\", \"Jane\", \"Bob\"),\n",
    "    capacity=30,\n",
    ")\n",
    "\n",
    "print(classroom)"
   ]
  },
  {
   "cell_type": "code",
   "execution_count": 17,
   "id": "d26f64d4",
   "metadata": {},
   "outputs": [],
   "source": [
    "class Address(BaseModel):\n",
    "    street: str\n",
    "    city: str\n",
    "    state: str\n",
    "    zip_code: str\n",
    "    \n",
    "class Customer(BaseModel):\n",
    "    customer_id: int\n",
    "    name: str\n",
    "    address: Address"
   ]
  },
  {
   "cell_type": "code",
   "execution_count": 21,
   "id": "732eedec",
   "metadata": {},
   "outputs": [
    {
     "name": "stdout",
     "output_type": "stream",
     "text": [
      "customer_id=1 name='John Doe' address=Address(street='123 Main St', city='Anytown', state='CA', zip_code='12345')\n"
     ]
    }
   ],
   "source": [
    "try:\n",
    "    customer = Customer(customer_id=1, name=\"John Doe\", address=Address(street=\"123 Main St\", city=\"Anytown\", state=\"CA\", zip_code=\"12345\"))\n",
    "    print(customer)\n",
    "except ValueError as e:\n",
    "    print(e)"
   ]
  },
  {
   "cell_type": "code",
   "execution_count": 27,
   "id": "14b440a6",
   "metadata": {},
   "outputs": [
    {
     "name": "stdout",
     "output_type": "stream",
     "text": [
      "name='Book' price=80.0 quantity=10\n"
     ]
    }
   ],
   "source": [
    "from pydantic import BaseModel, Field\n",
    "\n",
    "class Item(BaseModel):\n",
    "    name: str = Field(min_length=3, max_length=10)\n",
    "    price: float = Field(gt=10)\n",
    "    quantity: int = Field(ge=1)\n",
    "\n",
    "item = Item(name=\"Book\", price=80, quantity=10)\n",
    "print(item)"
   ]
  },
  {
   "cell_type": "code",
   "execution_count": 28,
   "id": "eebbd1fc",
   "metadata": {},
   "outputs": [
    {
     "data": {
      "text/plain": [
       "{'$defs': {'Address': {'properties': {'street': {'title': 'Street',\n",
       "     'type': 'string'},\n",
       "    'city': {'title': 'City', 'type': 'string'},\n",
       "    'state': {'title': 'State', 'type': 'string'},\n",
       "    'zip_code': {'title': 'Zip Code', 'type': 'string'}},\n",
       "   'required': ['street', 'city', 'state', 'zip_code'],\n",
       "   'title': 'Address',\n",
       "   'type': 'object'}},\n",
       " 'properties': {'customer_id': {'title': 'Customer Id', 'type': 'integer'},\n",
       "  'name': {'title': 'Name', 'type': 'string'},\n",
       "  'address': {'$ref': '#/$defs/Address'}},\n",
       " 'required': ['customer_id', 'name', 'address'],\n",
       " 'title': 'Customer',\n",
       " 'type': 'object'}"
      ]
     },
     "execution_count": 28,
     "metadata": {},
     "output_type": "execute_result"
    }
   ],
   "source": [
    "Customer.model_json_schema()"
   ]
  },
  {
   "cell_type": "code",
   "execution_count": 29,
   "id": "398ecb42",
   "metadata": {},
   "outputs": [
    {
     "name": "stdout",
     "output_type": "stream",
     "text": [
      "username='alice' age=18 email='user@example.com'\n"
     ]
    }
   ],
   "source": [
    "class User(BaseModel):\n",
    "    username : str = Field(description=\"Unique username for the user\")\n",
    "    age : int = Field(default=18,description=\"User age default to 18 \")\n",
    "    email : str = Field(default_factory=lambda: \"user@example.com\",description=\"Default email address\")\n",
    "\n",
    "user1 = User(username=\"alice\")\n",
    "print(user1)"
   ]
  },
  {
   "cell_type": "code",
   "execution_count": 30,
   "id": "2da70017",
   "metadata": {},
   "outputs": [
    {
     "data": {
      "text/plain": [
       "{'properties': {'username': {'description': 'Unique username for the user',\n",
       "   'title': 'Username',\n",
       "   'type': 'string'},\n",
       "  'age': {'default': 18,\n",
       "   'description': 'User age default to 18 ',\n",
       "   'title': 'Age',\n",
       "   'type': 'integer'},\n",
       "  'email': {'description': 'Default email address',\n",
       "   'title': 'Email',\n",
       "   'type': 'string'}},\n",
       " 'required': ['username'],\n",
       " 'title': 'User',\n",
       " 'type': 'object'}"
      ]
     },
     "execution_count": 30,
     "metadata": {},
     "output_type": "execute_result"
    }
   ],
   "source": [
    "User.model_json_schema()"
   ]
  },
  {
   "cell_type": "code",
   "execution_count": 31,
   "id": "e8369684",
   "metadata": {},
   "outputs": [
    {
     "name": "stdout",
     "output_type": "stream",
     "text": [
      "username='bob' age=25 email='bob@domain.com'\n"
     ]
    }
   ],
   "source": [
    "user2 = User(username=\"bob\", age=25, email=\"bob@domain.com\")\n",
    "print(user2)"
   ]
  }
 ],
 "metadata": {
  "kernelspec": {
   "display_name": "agenticaienv",
   "language": "python",
   "name": "python3"
  },
  "language_info": {
   "codemirror_mode": {
    "name": "ipython",
    "version": 3
   },
   "file_extension": ".py",
   "mimetype": "text/x-python",
   "name": "python",
   "nbconvert_exporter": "python",
   "pygments_lexer": "ipython3",
   "version": "3.13.2"
  }
 },
 "nbformat": 4,
 "nbformat_minor": 5
}
