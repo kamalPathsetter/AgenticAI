{
 "cells": [
  {
   "cell_type": "code",
   "execution_count": 1,
   "id": "524aca89",
   "metadata": {},
   "outputs": [
    {
     "data": {
      "text/plain": [
       "True"
      ]
     },
     "execution_count": 1,
     "metadata": {},
     "output_type": "execute_result"
    }
   ],
   "source": [
    "from dotenv import load_dotenv\n",
    "load_dotenv()"
   ]
  },
  {
   "cell_type": "code",
   "execution_count": 2,
   "id": "939c4c22",
   "metadata": {},
   "outputs": [],
   "source": [
    "import os\n",
    "\n",
    "os.environ[\"LANGCHAIN_API_KEY\"] = os.getenv(\"LANGCHAIN_API_KEY\")\n",
    "os.environ[\"LANGCHAIN_PROJECT\"] = os.getenv(\"LANGCHAIN_PROJECT\")\n",
    "os.environ[\"LANGCHAIN_TRACING_V2\"] = \"true\""
   ]
  },
  {
   "cell_type": "code",
   "execution_count": 3,
   "id": "5ddb2a2a",
   "metadata": {},
   "outputs": [],
   "source": [
    "from langchain_openai import ChatOpenAI\n",
    "llm = ChatOpenAI(\n",
    "    model_name=\"gpt-4o\",\n",
    "    temperature=0\n",
    ")"
   ]
  },
  {
   "cell_type": "code",
   "execution_count": 4,
   "id": "4c4bf184",
   "metadata": {},
   "outputs": [],
   "source": [
    "# from langchain_groq import ChatGroq\n",
    "# llm = ChatGroq(\n",
    "#     model_name=\"qwen/qwen3-32b\",\n",
    "#     temperature=0\n",
    "# )"
   ]
  },
  {
   "cell_type": "code",
   "execution_count": 5,
   "id": "a57a8368",
   "metadata": {},
   "outputs": [],
   "source": [
    "response = llm.invoke(\"Hello, how are you?\")"
   ]
  },
  {
   "cell_type": "code",
   "execution_count": 6,
   "id": "c8fa383d",
   "metadata": {},
   "outputs": [],
   "source": [
    "from langchain.tools import tool"
   ]
  },
  {
   "cell_type": "code",
   "execution_count": 7,
   "id": "8cc0da23",
   "metadata": {},
   "outputs": [],
   "source": [
    "@tool\n",
    "def multiply(a: float, b: float) -> float:\n",
    "    \"\"\"\n",
    "    Multiply two integers.\n",
    "\n",
    "    Args:\n",
    "        a (float): The first integer.\n",
    "        b (float): The second integer.\n",
    "\n",
    "    Returns:\n",
    "        float: The product of a and b.\n",
    "    \"\"\"\n",
    "    return a * b\n",
    "\n",
    "@tool\n",
    "def add(a: float, b: float) -> float:\n",
    "    \"\"\"\n",
    "    Add two integers.\n",
    "\n",
    "    Args:\n",
    "        a (float): The first integer.\n",
    "        b (float): The second integer.\n",
    "\n",
    "    Returns:\n",
    "        float: The sum of a and b.\n",
    "    \"\"\"\n",
    "    return a + b\n",
    "\n",
    "@tool\n",
    "def divide(a: float, b: float) -> float:\n",
    "    \"\"\"\n",
    "    Divide two integers.\n",
    "\n",
    "    Args:\n",
    "        a (float): The numerator.\n",
    "        b (float): The denominator (must not be 0).\n",
    "\n",
    "    Returns:\n",
    "        float: The result of division.\n",
    "    \"\"\"\n",
    "    if b == 0:\n",
    "        raise ValueError(\"Denominator cannot be zero.\")\n",
    "    return a / b\n",
    "\n",
    "@tool\n",
    "def subtract(x: float, y: float) -> float:\n",
    "    \"\"\"\n",
    "    Subtracts two numbers. \n",
    "    \n",
    "    Args:\n",
    "        x (float): The first number.\n",
    "        y (float): The second number.\n",
    "    \n",
    "    Returns:\n",
    "        float: The difference of the two numbers.\n",
    "    \"\"\"\n",
    "    return x - y"
   ]
  },
  {
   "cell_type": "code",
   "execution_count": 8,
   "id": "035e74ba",
   "metadata": {},
   "outputs": [],
   "source": [
    "from langchain_community.tools import DuckDuckGoSearchRun\n",
    "search=DuckDuckGoSearchRun()"
   ]
  },
  {
   "cell_type": "code",
   "execution_count": 9,
   "id": "45feaca6",
   "metadata": {},
   "outputs": [
    {
     "data": {
      "text/plain": [
       "'iPhone 17: New slimmer \\'iPhone 17 Air\\' model. ... Various rumors suggest that the new iPhones could benefit from the following updates: Design and display. 2025 could bring one of the biggest updates to the iPhone\\'s design that we\\'ve seen since the 2017 iPhone X, with Apple rumored to be planning for an all-new iPhone 17 \"Air\" that has a much thinner ... Apple\\'s iOS 17.7 upgrade was released alongside iOS 18, including many of the same security fixes.The iOS 17.7 update is for iPhone users who want to wait before upgrading to the latest Apple ... CUPERTINO, CALIFORNIA Apple today previewed iOS 26, a major update that brings a beautiful new design, intelligent experiences, and improvements to the apps users rely on every day.The new design provides a more expressive and delightful experience across the system while maintaining the instant familiarity of iOS. Apple has released the latest versions of its iPhone and iPad software: iOS 17.6 and iPadOS 17.6 are now available for download on your device. Here\\'s what\\'s new in these latest OS updates.'"
      ]
     },
     "execution_count": 9,
     "metadata": {},
     "output_type": "execute_result"
    }
   ],
   "source": [
    "search.invoke(\"What is the latest update on iPhone 17?\")"
   ]
  },
  {
   "cell_type": "code",
   "execution_count": 10,
   "id": "f001c228",
   "metadata": {},
   "outputs": [],
   "source": [
    "tools=[search, multiply, add, divide, subtract]"
   ]
  },
  {
   "cell_type": "code",
   "execution_count": 11,
   "id": "52c9af19",
   "metadata": {},
   "outputs": [],
   "source": [
    "llm_with_tools = llm.bind_tools(tools)"
   ]
  },
  {
   "cell_type": "code",
   "execution_count": 12,
   "id": "d3663b26",
   "metadata": {},
   "outputs": [],
   "source": [
    "x = llm_with_tools.invoke(\"What is the latest update on iPhone 17?\")"
   ]
  },
  {
   "cell_type": "code",
   "execution_count": 13,
   "id": "5b34b2d0",
   "metadata": {},
   "outputs": [
    {
     "data": {
      "text/plain": [
       "[{'name': 'duckduckgo_search',\n",
       "  'args': {'query': 'iPhone 17 latest update'},\n",
       "  'id': 'call_EowAefLGwwcN0Wb74ZEkyX0P',\n",
       "  'type': 'tool_call'}]"
      ]
     },
     "execution_count": 13,
     "metadata": {},
     "output_type": "execute_result"
    }
   ],
   "source": [
    "x.tool_calls"
   ]
  },
  {
   "cell_type": "code",
   "execution_count": 14,
   "id": "8615a867",
   "metadata": {},
   "outputs": [],
   "source": [
    "x = llm_with_tools.invoke(\"Add 4 and 5\")"
   ]
  },
  {
   "cell_type": "code",
   "execution_count": 15,
   "id": "0d90ec80",
   "metadata": {},
   "outputs": [
    {
     "data": {
      "text/plain": [
       "AIMessage(content='', additional_kwargs={'tool_calls': [{'id': 'call_5VGWnUbo8uYaNBCV6WwJBVWn', 'function': {'arguments': '{\"a\":4,\"b\":5}', 'name': 'add'}, 'type': 'function'}], 'refusal': None}, response_metadata={'token_usage': {'completion_tokens': 17, 'prompt_tokens': 284, 'total_tokens': 301, 'completion_tokens_details': {'accepted_prediction_tokens': 0, 'audio_tokens': 0, 'reasoning_tokens': 0, 'rejected_prediction_tokens': 0}, 'prompt_tokens_details': {'audio_tokens': 0, 'cached_tokens': 0}}, 'model_name': 'gpt-4o-2024-08-06', 'system_fingerprint': 'fp_07871e2ad8', 'id': 'chatcmpl-BiaAZSDkIWwj1VN44OSJwi8KWtiCe', 'service_tier': 'default', 'finish_reason': 'tool_calls', 'logprobs': None}, id='run--5103357f-ef13-4e0d-ab85-c9e3c23601c9-0', tool_calls=[{'name': 'add', 'args': {'a': 4, 'b': 5}, 'id': 'call_5VGWnUbo8uYaNBCV6WwJBVWn', 'type': 'tool_call'}], usage_metadata={'input_tokens': 284, 'output_tokens': 17, 'total_tokens': 301, 'input_token_details': {'audio': 0, 'cache_read': 0}, 'output_token_details': {'audio': 0, 'reasoning': 0}})"
      ]
     },
     "execution_count": 15,
     "metadata": {},
     "output_type": "execute_result"
    }
   ],
   "source": [
    "x"
   ]
  },
  {
   "cell_type": "code",
   "execution_count": 16,
   "id": "d483fdb1",
   "metadata": {},
   "outputs": [],
   "source": [
    "x = llm_with_tools.invoke(\"What is the current age of TATA group?\")"
   ]
  },
  {
   "cell_type": "code",
   "execution_count": 17,
   "id": "5f7fbe96",
   "metadata": {},
   "outputs": [
    {
     "data": {
      "text/plain": [
       "AIMessage(content='', additional_kwargs={'tool_calls': [{'id': 'call_7FWzacqkqMhUmIGkTlV5Ti23', 'function': {'arguments': '{\"query\":\"TATA group founding year\"}', 'name': 'duckduckgo_search'}, 'type': 'function'}], 'refusal': None}, response_metadata={'token_usage': {'completion_tokens': 21, 'prompt_tokens': 288, 'total_tokens': 309, 'completion_tokens_details': {'accepted_prediction_tokens': 0, 'audio_tokens': 0, 'reasoning_tokens': 0, 'rejected_prediction_tokens': 0}, 'prompt_tokens_details': {'audio_tokens': 0, 'cached_tokens': 0}}, 'model_name': 'gpt-4o-2024-08-06', 'system_fingerprint': 'fp_07871e2ad8', 'id': 'chatcmpl-BiaAaJbNZDN01kkrFK7f1LehmRz61', 'service_tier': 'default', 'finish_reason': 'tool_calls', 'logprobs': None}, id='run--97cd109b-dfc9-4a0d-b5a4-07c1c438abc8-0', tool_calls=[{'name': 'duckduckgo_search', 'args': {'query': 'TATA group founding year'}, 'id': 'call_7FWzacqkqMhUmIGkTlV5Ti23', 'type': 'tool_call'}], usage_metadata={'input_tokens': 288, 'output_tokens': 21, 'total_tokens': 309, 'input_token_details': {'audio': 0, 'cache_read': 0}, 'output_token_details': {'audio': 0, 'reasoning': 0}})"
      ]
     },
     "execution_count": 17,
     "metadata": {},
     "output_type": "execute_result"
    }
   ],
   "source": [
    "x"
   ]
  },
  {
   "cell_type": "code",
   "execution_count": 18,
   "id": "e15f0468",
   "metadata": {},
   "outputs": [],
   "source": [
    "from langchain_core.messages import HumanMessage, SystemMessage\n",
    "from langgraph.graph import MessagesState,StateGraph, END, START"
   ]
  },
  {
   "cell_type": "code",
   "execution_count": 19,
   "id": "f25bcf05",
   "metadata": {},
   "outputs": [],
   "source": [
    "SYSTEM_PROMPT = \"\"\"\n",
    "You are a helpful assistant tasked with answering the user's question using basic arithmetic operations (add, subtract, multiply, divide) and an online search tool (DuckDuckGo).\n",
    "\n",
    "Use the appropriate tool(s) when necessary. Show reasoning before giving the final answer.\n",
    "If a question requires external knowledge, use the search tool first.\n",
    "If a question is purely mathematical, use arithmetic tools.\n",
    "\"\"\""
   ]
  },
  {
   "cell_type": "code",
   "execution_count": 20,
   "id": "bbb19f6b",
   "metadata": {},
   "outputs": [],
   "source": [
    "def function_1(state:MessagesState):\n",
    "    user_question = state['messages']\n",
    "    \n",
    "    input_query = [SYSTEM_PROMPT] + user_question\n",
    "\n",
    "    response = llm_with_tools.invoke(input_query)\n",
    "    \n",
    "    return {\n",
    "        'messages': [response]\n",
    "    }"
   ]
  },
  {
   "cell_type": "code",
   "execution_count": 21,
   "id": "4c02027a",
   "metadata": {},
   "outputs": [],
   "source": [
    "builder=StateGraph(MessagesState)"
   ]
  },
  {
   "cell_type": "code",
   "execution_count": 22,
   "id": "a7ee61e4",
   "metadata": {},
   "outputs": [
    {
     "data": {
      "text/plain": [
       "<langgraph.graph.state.StateGraph at 0x11b72ffd0>"
      ]
     },
     "execution_count": 22,
     "metadata": {},
     "output_type": "execute_result"
    }
   ],
   "source": [
    "builder.add_node(\"llm_decision_step\",function_1)"
   ]
  },
  {
   "cell_type": "code",
   "execution_count": 23,
   "id": "dfbe21b8",
   "metadata": {},
   "outputs": [
    {
     "data": {
      "text/plain": [
       "<langgraph.graph.state.StateGraph at 0x11b72ffd0>"
      ]
     },
     "execution_count": 23,
     "metadata": {},
     "output_type": "execute_result"
    }
   ],
   "source": [
    "from langgraph.prebuilt import ToolNode\n",
    "builder.add_node(\"tools\",ToolNode(tools))"
   ]
  },
  {
   "cell_type": "code",
   "execution_count": 24,
   "id": "266759d4",
   "metadata": {},
   "outputs": [
    {
     "data": {
      "text/plain": [
       "<langgraph.graph.state.StateGraph at 0x11b72ffd0>"
      ]
     },
     "execution_count": 24,
     "metadata": {},
     "output_type": "execute_result"
    }
   ],
   "source": [
    "builder.add_edge(START,\"llm_decision_step\")"
   ]
  },
  {
   "cell_type": "code",
   "execution_count": 25,
   "id": "7b914807",
   "metadata": {},
   "outputs": [
    {
     "data": {
      "text/plain": [
       "<langgraph.graph.state.StateGraph at 0x11b72ffd0>"
      ]
     },
     "execution_count": 25,
     "metadata": {},
     "output_type": "execute_result"
    }
   ],
   "source": [
    "from langgraph.prebuilt import tools_condition\n",
    "builder.add_conditional_edges(\"llm_decision_step\", tools_condition)"
   ]
  },
  {
   "cell_type": "code",
   "execution_count": 26,
   "id": "db569465",
   "metadata": {},
   "outputs": [
    {
     "data": {
      "text/plain": [
       "<langgraph.graph.state.StateGraph at 0x11b72ffd0>"
      ]
     },
     "execution_count": 26,
     "metadata": {},
     "output_type": "execute_result"
    }
   ],
   "source": [
    "builder.add_edge(\"tools\",\"llm_decision_step\")"
   ]
  },
  {
   "cell_type": "code",
   "execution_count": 27,
   "id": "cc4653c8",
   "metadata": {},
   "outputs": [],
   "source": [
    "react_graph=builder.compile()"
   ]
  },
  {
   "cell_type": "code",
   "execution_count": 28,
   "id": "5a0f32ce",
   "metadata": {},
   "outputs": [
    {
     "data": {
      "image/png": "[encoded data removed]",
      "text/plain": [
       "<IPython.core.display.Image object>"
      ]
     },
     "metadata": {},
     "output_type": "display_data"
    }
   ],
   "source": [
    "from IPython.display import Image, display\n",
    "display(Image(react_graph.get_graph().draw_mermaid_png()))"
   ]
  },
  {
   "cell_type": "code",
   "execution_count": 29,
   "id": "abb21d98",
   "metadata": {},
   "outputs": [
    {
     "name": "stdout",
     "output_type": "stream",
     "text": [
      "Intel MKL WARNING: Support of Intel(R) Streaming SIMD Extensions 4.2 (Intel(R) SSE4.2) enabled only processors has been deprecated. Intel oneAPI Math Kernel Library 2025.0 will require Intel(R) Advanced Vector Extensions (Intel(R) AVX) instructions.\n",
      "Intel MKL WARNING: Support of Intel(R) Streaming SIMD Extensions 4.2 (Intel(R) SSE4.2) enabled only processors has been deprecated. Intel oneAPI Math Kernel Library 2025.0 will require Intel(R) Advanced Vector Extensions (Intel(R) AVX) instructions.\n"
     ]
    }
   ],
   "source": [
    "response = react_graph.invoke({'messages': [HumanMessage(content=\"Multiply the age of TATA group by 2?\")]})"
   ]
  },
  {
   "cell_type": "code",
   "execution_count": 30,
   "id": "45e8ef8e",
   "metadata": {},
   "outputs": [
    {
     "data": {
      "text/plain": [
       "'The Tata Group was founded in 1868, making it 155 years old as of 2023. Multiplying the age of the Tata Group by 2 gives us 310.'"
      ]
     },
     "execution_count": 30,
     "metadata": {},
     "output_type": "execute_result"
    }
   ],
   "source": [
    "response['messages'][-1].content"
   ]
  },
  {
   "cell_type": "code",
   "execution_count": 31,
   "id": "d4cae8a5",
   "metadata": {},
   "outputs": [
    {
     "name": "stdout",
     "output_type": "stream",
     "text": [
      "================================\u001b[1m Human Message \u001b[0m=================================\n",
      "\n",
      "Multiply the age of TATA group by 2?\n",
      "==================================\u001b[1m Ai Message \u001b[0m==================================\n",
      "Tool Calls:\n",
      "  duckduckgo_search (call_7ZK12fnUMdUGp2hCq0O5VwDD)\n",
      " Call ID: call_7ZK12fnUMdUGp2hCq0O5VwDD\n",
      "  Args:\n",
      "    query: TATA group age\n",
      "=================================\u001b[1m Tool Message \u001b[0m=================================\n",
      "Name: duckduckgo_search\n",
      "\n",
      "In one of his first steps, Ratan Tata sought to rein in the power of some heads of Tata Group's companies, enforcing retirement ages, promoting younger people to senior positions and ramping up ... Know about Ratan Tata's net worth, family, age, quotes, and facts here. ... Tata Group companies and Tata charities donated $50 million in 2010 to Harvard Business School (HBS) for the ... Ratan Tata, who has died aged 86, was one of India's most internationally recognised business leaders. The tycoon led the Tata Group - known as a \"salt-to-software\" conglomerate of more than 100 ... Ratan Tata took over as Chairman of Tata Sons in 1991, succeeding JRD Tata. At that time, the Tata Group was largely an Indian conglomerate with annual revenues of around $5 billion. ... 2024, at the age of 86. He had been undergoing treatment for prolonged illness at Mumbai's Breach Candy Hospital for the last few days. Read more: Ratan Tata passes away at 86; meet his successors, the next-gen Tata scions Achievements at Tata Group Ratan Tata took over as chairman of Tata Group in 1991, steering the company to international prominence. Under his leadership, the group's revenues skyrocketed more than 40 times, reaching $103 billion by 2016.\n",
      "==================================\u001b[1m Ai Message \u001b[0m==================================\n",
      "Tool Calls:\n",
      "  duckduckgo_search (call_K1APxZjeVYNcRakjy5Afgl4h)\n",
      " Call ID: call_K1APxZjeVYNcRakjy5Afgl4h\n",
      "  Args:\n",
      "    query: TATA group founding year\n",
      "=================================\u001b[1m Tool Message \u001b[0m=================================\n",
      "Name: duckduckgo_search\n",
      "\n",
      "Tata Group is an Indian conglomerate of 30 companies across a wide range of industries, including automobiles, chemicals, consumer products, energy, engineering, financial services, information systems, materials, and telecommunications. Headquarters are in Mumbai. The Founding of Tata Group The Tata Group, one of India's largest and most influential conglomerates, was founded in 1868 by Jamsetji Nusserwanji Tata. Known for pioneering industries in India, Tata Group has played a pivotal role in the country's industrial, economic, and social development. A. Founding and early years Jamsetji Tata opened a trading company in Mumbai, India, in 1868, hence launching the Tata Group. The company swiftly went into textiles after briefly concentrating only on trading initially. The establishment of Tata Steel in 1907, India's first steel plant, was made possible by Jamsetji's vision. Tata Group - History, Products and Services, Financial Information Updated on May 27, 2025 , 38003 views Tata Group is an Indian multinational company founded in 1868 by Jamsetji Tata. It is headquartered in Mumbai and is one of the largest conglomerates in the world owned by Tata Sons today. It has operations running in more than 100 countries across 5 continents, with products and services ... Here's an overview of the birth, growth, and revolution of the Tata Group: Early Years (1868-1900) Founded by Jamsetji Tata in 1868 as a trading company. Initial business: exporting cotton an…\n",
      "==================================\u001b[1m Ai Message \u001b[0m==================================\n",
      "Tool Calls:\n",
      "  subtract (call_OJFWq5r9AoAj1OFlOI7CGHDc)\n",
      " Call ID: call_OJFWq5r9AoAj1OFlOI7CGHDc\n",
      "  Args:\n",
      "    x: 2023\n",
      "    y: 1868\n",
      "=================================\u001b[1m Tool Message \u001b[0m=================================\n",
      "Name: subtract\n",
      "\n",
      "155.0\n",
      "==================================\u001b[1m Ai Message \u001b[0m==================================\n",
      "Tool Calls:\n",
      "  multiply (call_Mf05xLph30lacRKT1mWScUog)\n",
      " Call ID: call_Mf05xLph30lacRKT1mWScUog\n",
      "  Args:\n",
      "    a: 155\n",
      "    b: 2\n",
      "=================================\u001b[1m Tool Message \u001b[0m=================================\n",
      "Name: multiply\n",
      "\n",
      "310.0\n",
      "==================================\u001b[1m Ai Message \u001b[0m==================================\n",
      "\n",
      "The Tata Group was founded in 1868, making it 155 years old as of 2023. Multiplying the age of the Tata Group by 2 gives us 310.\n"
     ]
    }
   ],
   "source": [
    "for m in response['messages']:\n",
    "    m.pretty_print()"
   ]
  },
  {
   "cell_type": "code",
   "execution_count": 32,
   "id": "edd86ca8",
   "metadata": {},
   "outputs": [],
   "source": [
    "import yfinance as yf"
   ]
  },
  {
   "cell_type": "code",
   "execution_count": 43,
   "id": "58424588",
   "metadata": {},
   "outputs": [],
   "source": [
    "@tool\n",
    "def get_stock_price(ticker:str)->str:\n",
    "    \"\"\"\n",
    "    Fetches the previous closing price of a given stock ticker from Yahoo Finance.\n",
    "\n",
    "    Args:\n",
    "        ticker (str): The stock ticker symbol (e.g., 'AAPL', 'TSLA', 'NIFTY.BO').\n",
    "\n",
    "    Returns:\n",
    "        str: A message with the stock's previous closing price.\n",
    "    \"\"\"\n",
    "    try:\n",
    "        stock = yf.Ticker(ticker)\n",
    "        price = stock.info.get('previousClose')\n",
    "        if price is None:\n",
    "            return f\"Could not fetch price for ticker '{ticker}'.\"\n",
    "        return f\"The last closing price of {ticker.upper()} was ${price:.2f}.\"\n",
    "    except Exception as e:\n",
    "        return f\"An error occurred while fetching stock data: {str(e)}\"\n",
    "     "
   ]
  },
  {
   "cell_type": "code",
   "execution_count": 44,
   "id": "54d8d4b2",
   "metadata": {},
   "outputs": [
    {
     "data": {
      "text/plain": [
       "'The last closing price of AAPL was $199.20.'"
      ]
     },
     "execution_count": 44,
     "metadata": {},
     "output_type": "execute_result"
    }
   ],
   "source": [
    "get_stock_price.invoke(\"AAPL\")"
   ]
  },
  {
   "cell_type": "code",
   "execution_count": 45,
   "id": "1cf3d862",
   "metadata": {},
   "outputs": [],
   "source": [
    "tools = [add, multiply, subtract, divide, search, get_stock_price]"
   ]
  },
  {
   "cell_type": "code",
   "execution_count": 46,
   "id": "72d7bced",
   "metadata": {},
   "outputs": [
    {
     "data": {
      "text/plain": [
       "RunnableBinding(bound=ChatOpenAI(client=<openai.resources.chat.completions.completions.Completions object at 0x111b28070>, async_client=<openai.resources.chat.completions.completions.AsyncCompletions object at 0x11b153670>, root_client=<openai.OpenAI object at 0x111b29180>, root_async_client=<openai.AsyncOpenAI object at 0x11b1535b0>, model_name='gpt-4o', temperature=0.0, model_kwargs={}, openai_api_key=SecretStr('**********')), kwargs={'tools': [{'type': 'function', 'function': {'name': 'add', 'description': 'Add two integers.\\n\\nArgs:\\n    a (float): The first integer.\\n    b (float): The second integer.\\n\\nReturns:\\n    float: The sum of a and b.', 'parameters': {'properties': {'a': {'type': 'number'}, 'b': {'type': 'number'}}, 'required': ['a', 'b'], 'type': 'object'}}}, {'type': 'function', 'function': {'name': 'multiply', 'description': 'Multiply two integers.\\n\\nArgs:\\n    a (float): The first integer.\\n    b (float): The second integer.\\n\\nReturns:\\n    float: The product of a and b.', 'parameters': {'properties': {'a': {'type': 'number'}, 'b': {'type': 'number'}}, 'required': ['a', 'b'], 'type': 'object'}}}, {'type': 'function', 'function': {'name': 'subtract', 'description': 'Subtracts two numbers. \\n\\nArgs:\\n    x (float): The first number.\\n    y (float): The second number.\\n\\nReturns:\\n    float: The difference of the two numbers.', 'parameters': {'properties': {'x': {'type': 'number'}, 'y': {'type': 'number'}}, 'required': ['x', 'y'], 'type': 'object'}}}, {'type': 'function', 'function': {'name': 'divide', 'description': 'Divide two integers.\\n\\nArgs:\\n    a (float): The numerator.\\n    b (float): The denominator (must not be 0).\\n\\nReturns:\\n    float: The result of division.', 'parameters': {'properties': {'a': {'type': 'number'}, 'b': {'type': 'number'}}, 'required': ['a', 'b'], 'type': 'object'}}}, {'type': 'function', 'function': {'name': 'duckduckgo_search', 'description': 'A wrapper around DuckDuckGo Search. Useful for when you need to answer questions about current events. Input should be a search query.', 'parameters': {'properties': {'query': {'description': 'search query to look up', 'type': 'string'}}, 'required': ['query'], 'type': 'object'}}}, {'type': 'function', 'function': {'name': 'get_stock_price', 'description': \"Fetches the previous closing price of a given stock ticker from Yahoo Finance.\\n\\nArgs:\\n    ticker (str): The stock ticker symbol (e.g., 'AAPL', 'TSLA', 'NIFTY.BO').\\n\\nReturns:\\n    str: A message with the stock's previous closing price.\", 'parameters': {'properties': {'ticker': {'type': 'string'}}, 'required': ['ticker'], 'type': 'object'}}}]}, config={}, config_factories=[])"
      ]
     },
     "execution_count": 46,
     "metadata": {},
     "output_type": "execute_result"
    }
   ],
   "source": [
    "llm_with_tools.bind_tools(tools)"
   ]
  },
  {
   "cell_type": "code",
   "execution_count": 47,
   "id": "394fa7a4",
   "metadata": {},
   "outputs": [],
   "source": [
    "SYSTEM_PROMPT = \"\"\"\n",
    "You are a helpful assistant tasked with answering the user's question using the following tools:\n",
    "\n",
    "1. Arithmetic operations: add, subtract, multiply, divide.\n",
    "2. Web search: DuckDuckGo (search).\n",
    "3. Stock price lookup: get_stock_price (via yfinance).\n",
    "\n",
    "Guidelines for tool usage:\n",
    "\n",
    "- 🔹 If the user asks about a **stock's price**, always use `get_stock_price`. Never use `search` for stock prices.\n",
    "- 🔹 Use `search` only for general questions, latest news, or non-financial facts.\n",
    "- 🔹 Use arithmetic tools for math operations. You may combine values from other tools.\n",
    "- ❗ Avoid using multiple tools redundantly — choose the one that best suits the question.\n",
    "- Always explain your reasoning before giving the final answer.\n",
    "\"\"\""
   ]
  },
  {
   "cell_type": "code",
   "execution_count": 48,
   "id": "4c92b72a",
   "metadata": {},
   "outputs": [],
   "source": [
    "def function_1(state:MessagesState):\n",
    "    user_question = state['messages']\n",
    "    \n",
    "    input_query = [SYSTEM_PROMPT] + user_question\n",
    "\n",
    "    response = llm_with_tools.invoke(input_query)\n",
    "    \n",
    "    return {\n",
    "        'messages': [response]\n",
    "    }"
   ]
  },
  {
   "cell_type": "code",
   "execution_count": 49,
   "id": "a7694c02",
   "metadata": {},
   "outputs": [],
   "source": [
    "from langgraph.prebuilt import ToolNode\n",
    "from langgraph.prebuilt import tools_condition\n",
    "\n",
    "builder=StateGraph(MessagesState)\n",
    "builder.add_node(\"llm_decision_step\",function_1)\n",
    "builder.add_node(\"tools\",ToolNode(tools))\n",
    "builder.add_edge(START,\"llm_decision_step\")\n",
    "builder.add_conditional_edges(\"llm_decision_step\", tools_condition)\n",
    "builder.add_edge(\"tools\",\"llm_decision_step\")\n",
    "react_graph_2=builder.compile()"
   ]
  },
  {
   "cell_type": "code",
   "execution_count": 50,
   "id": "c70a3e8c",
   "metadata": {},
   "outputs": [
    {
     "data": {
      "image/png": "[encoded data removed]",
      "text/plain": [
       "<IPython.core.display.Image object>"
      ]
     },
     "metadata": {},
     "output_type": "display_data"
    }
   ],
   "source": [
    "from IPython.display import Image, display\n",
    "display(Image(react_graph_2.get_graph().draw_mermaid_png()))"
   ]
  },
  {
   "cell_type": "code",
   "execution_count": 51,
   "id": "2a2ac2c6",
   "metadata": {},
   "outputs": [],
   "source": [
    "response = react_graph_2.invoke({\"messages\":[HumanMessage(content=\"What is the current stock price of Apple with the latest news of Apple and add 1000 to it?\")]})"
   ]
  },
  {
   "cell_type": "code",
   "execution_count": 52,
   "id": "4d3947c9",
   "metadata": {},
   "outputs": [
    {
     "name": "stdout",
     "output_type": "stream",
     "text": [
      "================================\u001b[1m Human Message \u001b[0m=================================\n",
      "\n",
      "What is the current stock price of Apple with the latest news of Apple and add 1000 to it?\n",
      "==================================\u001b[1m Ai Message \u001b[0m==================================\n",
      "Tool Calls:\n",
      "  duckduckgo_search (call_riwh3tcyb0el0y0gPfn0hfWI)\n",
      " Call ID: call_riwh3tcyb0el0y0gPfn0hfWI\n",
      "  Args:\n",
      "    query: latest news about Apple Inc.\n",
      "  duckduckgo_search (call_gSGwK5OpI9irYPrdAdMDSric)\n",
      " Call ID: call_gSGwK5OpI9irYPrdAdMDSric\n",
      "  Args:\n",
      "    query: current stock price of Apple Inc.\n",
      "=================================\u001b[1m Tool Message \u001b[0m=================================\n",
      "Name: duckduckgo_search\n",
      "\n",
      "At today's WWDC 2025 keynote event, Apple unveiled a new design that will inform the next decade of iOS, iPadOS, and macOS development, so... From the new Liquid Glass interface to the Mac-like features coming to the iPad, here's all the news from Monday's WWDC keynote. Here's everything the tech company announced in its WWDC 2025 keynote address, including iOS 26, the Liquid Glass design and AI updates. Find news about Apple Company News in the Apple Newsroom archive. Access press releases, updates, photos, videos and more. Apple today announced new Apple Intelligence features that elevate the user experience across iPhone, iPad, Mac, Apple Watch, and Apple Vision Pro.\n",
      "=================================\u001b[1m Tool Message \u001b[0m=================================\n",
      "Name: duckduckgo_search\n",
      "\n",
      "Historical Stock Price Lookup. Investor Relations > Stock Price . Apple Footer Analyst Forecast. According to 36 analysts, the average rating for AAPL stock is \"Buy.\" The 12-month stock price forecast is $237.36, which is an increase of 17.12% from the latest price. As of today (June 11, 2025), AAPL stock price is $202.67, with a rise of +$1.22 (+0.61%) during the most recent trading session on June 10, 2025. Over the past year, AAPL stock price has increased by +$9.55 (+4.95%). AAPL stock price is now -22.08% below its all-time high of $260.10. Apple. stock was originally listed at a price of $0.12 in Dec 31, 1997. If you had invested in Apple stock at $0.12, ... Apple 's market cap is calculated by multiplying AAPL's current stock price of $198.78 by AAPL's total outstanding shares of 14,935,826,000. Apple Inc Share Price Live Today:Get the Live stock price of AAPL Inc., and quote, performance, latest news to help you with stock trading and investing.Check out why Apple Inc share price is up ...\n",
      "==================================\u001b[1m Ai Message \u001b[0m==================================\n",
      "Tool Calls:\n",
      "  add (call_Ey6sQjUS86CnqWW5XxX67ukq)\n",
      " Call ID: call_Ey6sQjUS86CnqWW5XxX67ukq\n",
      "  Args:\n",
      "    a: 202.67\n",
      "    b: 1000\n",
      "=================================\u001b[1m Tool Message \u001b[0m=================================\n",
      "Name: add\n",
      "\n",
      "1202.67\n",
      "==================================\u001b[1m Ai Message \u001b[0m==================================\n",
      "\n",
      "The current stock price of Apple Inc. is $202.67. Adding 1000 to this stock price gives us a total of $1202.67.\n",
      "\n",
      "Regarding the latest news, Apple recently held its WWDC 2025 keynote event where they unveiled a new design that will shape the next decade of iOS, iPadOS, and macOS development. They introduced the new Liquid Glass interface and announced updates including iOS 26, AI enhancements, and more features across their product line.\n"
     ]
    }
   ],
   "source": [
    "for m in response['messages']:\n",
    "    m.pretty_print()"
   ]
  },
  {
   "cell_type": "code",
   "execution_count": null,
   "id": "6de77dc7",
   "metadata": {},
   "outputs": [],
   "source": []
  }
 ],
 "metadata": {
  "kernelspec": {
   "display_name": "agenticaienv",
   "language": "python",
   "name": "python3"
  },
  "language_info": {
   "codemirror_mode": {
    "name": "ipython",
    "version": 3
   },
   "file_extension": ".py",
   "mimetype": "text/x-python",
   "name": "python",
   "nbconvert_exporter": "python",
   "pygments_lexer": "ipython3",
   "version": "3.10.16"
  }
 },
 "nbformat": 4,
 "nbformat_minor": 5
}
