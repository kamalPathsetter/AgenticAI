{
 "cells": [
  {
   "cell_type": "code",
   "execution_count": 11,
   "id": "f7cf300a",
   "metadata": {},
   "outputs": [
    {
     "data": {
      "text/plain": [
       "True"
      ]
     },
     "execution_count": 11,
     "metadata": {},
     "output_type": "execute_result"
    }
   ],
   "source": [
    "import os\n",
    "from dotenv import load_dotenv\n",
    "load_dotenv()"
   ]
  },
  {
   "cell_type": "code",
   "execution_count": 12,
   "id": "09530fc1",
   "metadata": {},
   "outputs": [],
   "source": [
    "os.environ['OPENAI_API_KEY'] = os.getenv('OPENAI_API_KEY')\n",
    "os.environ['GROQ_API_KEY'] = os.getenv('GROQ_API_KEY')\n",
    "\n",
    "os.environ[\"LANGCHAIN_API_KEY\"] = os.getenv(\"LANGCHAIN_API_KEY\")\n",
    "os.environ[\"LANGCHAIN_PROJECT\"] = os.getenv(\"LANGCHAIN_PROJECT\")\n",
    "os.environ[\"LANGCHAIN_TRACING_V2\"] = \"true\""
   ]
  },
  {
   "cell_type": "code",
   "execution_count": 13,
   "id": "84077d4e",
   "metadata": {},
   "outputs": [
    {
     "data": {
      "text/plain": [
       "(ChatOpenAI(client=<openai.resources.chat.completions.completions.Completions object at 0x117e9a0d0>, async_client=<openai.resources.chat.completions.completions.AsyncCompletions object at 0x117e98b90>, root_client=<openai.OpenAI object at 0x117e99950>, root_async_client=<openai.AsyncOpenAI object at 0x117e9a490>, model_name='gpt-4.1-nano', model_kwargs={}, openai_api_key=SecretStr('**********')),\n",
       " ChatGroq(client=<groq.resources.chat.completions.Completions object at 0x117e99d10>, async_client=<groq.resources.chat.completions.AsyncCompletions object at 0x117e98f50>, model_name='llama-3.3-70b-versatile', model_kwargs={}, groq_api_key=SecretStr('**********')))"
      ]
     },
     "execution_count": 13,
     "metadata": {},
     "output_type": "execute_result"
    }
   ],
   "source": [
    "from langchain_openai import ChatOpenAI\n",
    "from langchain_groq import ChatGroq\n",
    "\n",
    "openai_llm = ChatOpenAI(\n",
    "    model=\"gpt-4.1-nano\"\n",
    ")\n",
    "\n",
    "groq_llm = ChatGroq(\n",
    "    model=\"llama-3.3-70b-versatile\"\n",
    ")\n",
    "\n",
    "openai_llm, groq_llm"
   ]
  },
  {
   "cell_type": "code",
   "execution_count": 14,
   "id": "bd68d184",
   "metadata": {},
   "outputs": [],
   "source": [
    "from pydantic import BaseModel, Field\n",
    "\n",
    "class Product(BaseModel):\n",
    "    product_name: str = Field(description=\"Name of the product\")\n",
    "    product_description: str = Field(description=\"A comprehensive overview of the product, including its core features, unique selling points, materials or technology used, intended use cases, target audience, and any competitive advantages it offers.\")\n",
    "    product_price: float = Field(description=\"Price of the product\")"
   ]
  },
  {
   "cell_type": "code",
   "execution_count": 15,
   "id": "350cf8c9",
   "metadata": {},
   "outputs": [
    {
     "data": {
      "text/plain": [
       "JsonOutputParser(pydantic_object=<class '__main__.Product'>)"
      ]
     },
     "execution_count": 15,
     "metadata": {},
     "output_type": "execute_result"
    }
   ],
   "source": [
    "from langchain_core.output_parsers import JsonOutputParser\n",
    "\n",
    "JsonOutputParser(pydantic_object=Product)"
   ]
  },
  {
   "cell_type": "code",
   "execution_count": 16,
   "id": "c64e60e4",
   "metadata": {},
   "outputs": [
    {
     "data": {
      "text/plain": [
       "ChatPromptTemplate(input_variables=['input'], input_types={}, partial_variables={}, messages=[SystemMessage(content='You are a helpful assistant good at describing products. The output should be formatted as a JSON instance that conforms to the JSON schema below.\\n\\nAs an example, for the schema {\"properties\": {\"foo\": {\"title\": \"Foo\", \"description\": \"a list of strings\", \"type\": \"array\", \"items\": {\"type\": \"string\"}}}, \"required\": [\"foo\"]}\\nthe object {\"foo\": [\"bar\", \"baz\"]} is a well-formatted instance of the schema. The object {\"properties\": {\"foo\": [\"bar\", \"baz\"]}} is not well-formatted.\\n\\nHere is the output schema:\\n```\\n{\"properties\": {\"product_name\": {\"description\": \"Name of the product\", \"title\": \"Product Name\", \"type\": \"string\"}, \"product_description\": {\"description\": \"A comprehensive overview of the product, including its core features, unique selling points, materials or technology used, intended use cases, target audience, and any competitive advantages it offers.\", \"title\": \"Product Description\", \"type\": \"string\"}, \"product_price\": {\"description\": \"Price of the product\", \"title\": \"Product Price\", \"type\": \"number\"}}, \"required\": [\"product_name\", \"product_description\", \"product_price\"]}\\n```', additional_kwargs={}, response_metadata={}), HumanMessagePromptTemplate(prompt=PromptTemplate(input_variables=['input'], input_types={}, partial_variables={}, template='{input}'), additional_kwargs={})])"
      ]
     },
     "execution_count": 16,
     "metadata": {},
     "output_type": "execute_result"
    }
   ],
   "source": [
    "from langchain_core.prompts import ChatPromptTemplate, HumanMessagePromptTemplate\n",
    "from langchain_core.output_parsers import JsonOutputParser\n",
    "from langchain_core.messages import SystemMessage\n",
    "\n",
    "parser = JsonOutputParser(pydantic_object=Product)\n",
    "\n",
    "prompt = ChatPromptTemplate.from_messages([\n",
    "    SystemMessage(\n",
    "        content=(\n",
    "            f\"You are a helpful assistant good at describing products. {parser.get_format_instructions()}\"\n",
    "        )\n",
    "    ),\n",
    "    HumanMessagePromptTemplate.from_template(\"{input}\")\n",
    "])\n",
    "\n",
    "prompt"
   ]
  },
  {
   "cell_type": "code",
   "execution_count": 17,
   "id": "154e24d7",
   "metadata": {},
   "outputs": [
    {
     "name": "stdout",
     "output_type": "stream",
     "text": [
      "{'product_name': 'MacBook Air', 'product_description': 'The MacBook Air is a sleek and lightweight laptop designed by Apple, renowned for its portability, stunning Retina display, and powerful performance. It features the latest Apple Silicon M2 chip, ensuring fast processing and efficient energy use. The laptop boasts a thin aluminum body, a Magic Keyboard for comfortable typing, and a Force Touch trackpad. Ideal for students, professionals, and on-the-go users, the MacBook Air offers long battery life, high-quality audio, and seamless integration within the Apple ecosystem, making it a top choice for productivity and entertainment.', 'product_price': 999}\n",
      "\n",
      "\n",
      "\n",
      "{'product_name': 'MacBook Air', 'product_description': 'The MacBook Air is a line of ultra-portable laptops designed by Apple. It features a sleek and lightweight design, making it ideal for working on-the-go. The laptop is equipped with a high-resolution Retina display, powerful processors, and ample storage options. The MacBook Air is made from durable materials, including aluminum, and features a backlit keyboard and touchpad. It is designed for a wide range of users, from students and professionals to creatives and gamers. The MacBook Air is known for its ease of use, long battery life, and seamless integration with other Apple devices. With its compact size and lightweight design, the MacBook Air is perfect for travelers, remote workers, and anyone who needs a reliable and efficient laptop.', 'product_price': 999.0}\n"
     ]
    }
   ],
   "source": [
    "chain = prompt | openai_llm | parser\n",
    "print(chain.invoke({\"input\": \"Tell me about the MacBook Air\"}))\n",
    "\n",
    "print(\"\\n\\n\")\n",
    "\n",
    "chain = prompt | groq_llm | parser\n",
    "print(chain.invoke({\"input\": \"Tell me about the MacBook Air\"}))"
   ]
  },
  {
   "cell_type": "code",
   "execution_count": 18,
   "id": "05fcbf8a",
   "metadata": {},
   "outputs": [
    {
     "data": {
      "text/plain": [
       "ChatPromptTemplate(input_variables=['input'], input_types={}, partial_variables={}, messages=[SystemMessage(content='You are a helpful assistant good at describing products. The output should be formatted as a YAML instance that conforms to the given JSON schema below.\\n\\n# Examples\\n## Schema\\n```\\n{\"title\": \"Players\", \"description\": \"A list of players\", \"type\": \"array\", \"items\": {\"$ref\": \"#/definitions/Player\"}, \"definitions\": {\"Player\": {\"title\": \"Player\", \"type\": \"object\", \"properties\": {\"name\": {\"title\": \"Name\", \"description\": \"Player name\", \"type\": \"string\"}, \"avg\": {\"title\": \"Avg\", \"description\": \"Batting average\", \"type\": \"number\"}}, \"required\": [\"name\", \"avg\"]}}}\\n```\\n## Well formatted instance\\n```\\n- name: John Doe\\n  avg: 0.3\\n- name: Jane Maxfield\\n  avg: 1.4\\n```\\n\\n## Schema\\n```\\n{\"properties\": {\"habit\": { \"description\": \"A common daily habit\", \"type\": \"string\" }, \"sustainable_alternative\": { \"description\": \"An environmentally friendly alternative to the habit\", \"type\": \"string\"}}, \"required\": [\"habit\", \"sustainable_alternative\"]}\\n```\\n## Well formatted instance\\n```\\nhabit: Using disposable water bottles for daily hydration.\\nsustainable_alternative: Switch to a reusable water bottle to reduce plastic waste and decrease your environmental footprint.\\n``` \\n\\nPlease follow the standard YAML formatting conventions with an indent of 2 spaces and make sure that the data types adhere strictly to the following JSON schema: \\n```\\n{\"properties\": {\"product_name\": {\"description\": \"Name of the product\", \"title\": \"Product Name\", \"type\": \"string\"}, \"product_description\": {\"description\": \"A comprehensive overview of the product, including its core features, unique selling points, materials or technology used, intended use cases, target audience, and any competitive advantages it offers.\", \"title\": \"Product Description\", \"type\": \"string\"}, \"product_price\": {\"description\": \"Price of the product\", \"title\": \"Product Price\", \"type\": \"number\"}}, \"required\": [\"product_name\", \"product_description\", \"product_price\"]}\\n```\\n\\nMake sure to always enclose the YAML output in triple backticks (```). Please do not add anything other than valid YAML output!', additional_kwargs={}, response_metadata={}), HumanMessagePromptTemplate(prompt=PromptTemplate(input_variables=['input'], input_types={}, partial_variables={}, template='{input}'), additional_kwargs={})])"
      ]
     },
     "execution_count": 18,
     "metadata": {},
     "output_type": "execute_result"
    }
   ],
   "source": [
    "from langchain_core.prompts import ChatPromptTemplate, HumanMessagePromptTemplate\n",
    "from langchain.output_parsers import YamlOutputParser\n",
    "from langchain_core.messages import SystemMessage\n",
    "\n",
    "parser = YamlOutputParser(pydantic_object=Product)\n",
    "\n",
    "prompt = ChatPromptTemplate.from_messages([\n",
    "    SystemMessage(\n",
    "        content=(\n",
    "            f\"You are a helpful assistant good at describing products. {parser.get_format_instructions()}\"\n",
    "        )\n",
    "    ),\n",
    "    HumanMessagePromptTemplate.from_template(\"{input}\")\n",
    "])\n",
    "\n",
    "prompt"
   ]
  },
  {
   "cell_type": "code",
   "execution_count": 19,
   "id": "54958fd4",
   "metadata": {},
   "outputs": [
    {
     "name": "stdout",
     "output_type": "stream",
     "text": [
      "product_name='MacBook Air' product_description='The MacBook Air is a sleek and lightweight laptop designed by Apple, featuring a high-resolution Retina display, powerful M2 chip for swift performance, and all-day battery life. It is constructed with a durable aluminum unibody and incorporates innovative features such as a Magic Keyboard, Touch ID for secure authentication, and Thunderbolt ports for versatile connectivity. Ideal for students, professionals, and creatives, the MacBook Air offers exceptional portability without compromising on performance, making it perfect for both everyday tasks and more demanding workflows. The device also emphasizes eco-friendly manufacturing practices, aligning with sustainability efforts, and provides a seamless integration within the Apple ecosystem.\\n' product_price=999.0\n",
      "\n",
      "\n",
      "\n",
      "product_name='MacBook Air' product_description='The MacBook Air is a line of ultra-portable laptops developed by Apple, known for their sleek design, lightweight construction, and impressive performance. Featuring a stunning Retina display, powerful M1 or M2 chip, and up to 24 hours of battery life, this laptop is perfect for professionals, students, and anyone looking for a reliable and efficient computing experience. The MacBook Air is designed to handle a wide range of tasks, from everyday activities like browsing and emailing to more demanding tasks like video editing and software development. With its compact size, durable aluminum body, and seamless integration with other Apple devices, the MacBook Air is an excellent choice for those seeking a high-quality, user-friendly laptop.' product_price=999.0\n"
     ]
    }
   ],
   "source": [
    "chain = prompt | openai_llm | parser\n",
    "print(chain.invoke({\"input\": \"Tell me about the MacBook Air\"}))\n",
    "\n",
    "print(\"\\n\\n\")\n",
    "\n",
    "chain = prompt | groq_llm | parser\n",
    "print(chain.invoke({\"input\": \"Tell me about the MacBook Air\"}))"
   ]
  },
  {
   "cell_type": "code",
   "execution_count": null,
   "id": "71085ffc",
   "metadata": {},
   "outputs": [],
   "source": []
  }
 ],
 "metadata": {
  "kernelspec": {
   "display_name": "agenticaienv",
   "language": "python",
   "name": "python3"
  },
  "language_info": {
   "codemirror_mode": {
    "name": "ipython",
    "version": 3
   },
   "file_extension": ".py",
   "mimetype": "text/x-python",
   "name": "python",
   "nbconvert_exporter": "python",
   "pygments_lexer": "ipython3",
   "version": "3.13.2"
  }
 },
 "nbformat": 4,
 "nbformat_minor": 5
}
