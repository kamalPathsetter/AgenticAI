{
 "cells": [
  {
   "cell_type": "code",
   "execution_count": 1,
   "id": "846326ae",
   "metadata": {},
   "outputs": [
    {
     "data": {
      "text/plain": [
       "True"
      ]
     },
     "execution_count": 1,
     "metadata": {},
     "output_type": "execute_result"
    }
   ],
   "source": [
    "from dotenv import load_dotenv\n",
    "load_dotenv()"
   ]
  },
  {
   "cell_type": "code",
   "execution_count": 2,
   "id": "9e11014d",
   "metadata": {},
   "outputs": [],
   "source": [
    "import os\n",
    "\n",
    "os.environ[\"LANGCHAIN_API_KEY\"] = os.getenv(\"LANGCHAIN_API_KEY\")\n",
    "os.environ[\"LANGCHAIN_PROJECT\"] = os.getenv(\"LANGCHAIN_PROJECT\")\n",
    "os.environ[\"LANGCHAIN_TRACING_V2\"] = \"true\""
   ]
  },
  {
   "cell_type": "code",
   "execution_count": 3,
   "id": "d2f773f1",
   "metadata": {},
   "outputs": [],
   "source": [
    "from langchain_openai import ChatOpenAI\n",
    "llm = ChatOpenAI(\n",
    "    model_name=\"gpt-4o\"\n",
    ")"
   ]
  },
  {
   "cell_type": "code",
   "execution_count": 4,
   "id": "95b20afa",
   "metadata": {},
   "outputs": [],
   "source": [
    "from pydantic import BaseModel, Field\n",
    "from typing import Optional, List, Dict, Any\n",
    "\n",
    "class TravelAgentState(BaseModel):\n",
    "    user_query: Optional[List[str]] = Field(default=None, description=\"User query and any follow-up questions\")\n",
    "    current_place: Optional[str] = Field(default=None, description=\"Current place of the user\")\n",
    "    destination: Optional[str] = Field(default=None, description=\"Destination the user wants to go\")\n",
    "    start_date: Optional[str] = Field(default=None, description=\"Start date of the trip\")\n",
    "    end_date: Optional[str] = Field(default=None, description=\"End date of the trip\")\n",
    "    num_days: Optional[int] = Field(default=None, description=\"Number of days of the trip\")\n",
    "    native_currency: Optional[str] = Field(default=None, description=\"Native currency of the user\")\n",
    "    budget_range: Optional[str] = Field(default=None, description=\"Budget range of the trip\")\n",
    "    interests: Optional[List[str]] = Field(default=None, description=\"Interests such as activities, attractions, restaurants, transportation of the user\")\n",
    "\n",
    "    current_weather: Optional[Dict[str, Any]] = Field(default=None, description=\"Current weather of the destination\")\n",
    "    weather_forecast: Optional[List[Dict[str, Any]]] = Field(default=None, description=\"Weather forecast of the destination\")\n",
    "\n",
    "    attractions: Optional[List[Dict[str, Any]]] = Field(default=None, description=\"Attractions of the destination\")\n",
    "    activities: Optional[List[Dict[str, Any]]] = Field(default=None, description=\"Activities of the destination\")\n",
    "    restaurants: Optional[List[Dict[str, Any]]] = Field(default=None, description=\"Restaurants of the destination\")\n",
    "    transportation_info: Optional[Dict[str, Any]] = Field(default=None, description=\"Transportation information of the destination\")\n",
    "\n",
    "    hotel_options: Optional[List[Dict[str, Any]]] = Field(default=None, description=\"Hotel options of the destination\")\n",
    "    hotel_cost_per_day: Optional[float] = Field(default=None, description=\"Hotel cost per day of the destination\")\n",
    "    total_hotel_cost: Optional[float] = Field(default=None, description=\"Total hotel cost of the destination\")\n",
    "\n",
    "    exchange_rate: Optional[float] = Field(default=None, description=\"Exchange rate of the destination\")\n",
    "    converted_hotel_cost: Optional[float] = Field(default=None, description=\"Converted hotel cost of the destination\")\n",
    "    total_trip_cost: Optional[float] = Field(default=None, description=\"Total trip cost of the destination\")\n",
    "    daily_budget: Optional[float] = Field(default=None, description=\"Daily budget of the destination\")\n",
    "\n",
    "    daily_plans: Optional[List[str]] = Field(default=None, description=\"Daily plans of the destination\")\n",
    "    full_itinerary: Optional[str] = Field(default=None, description=\"Full itinerary of the destination\")\n",
    "\n",
    "    summary: Optional[str] = Field(default=None, description=\"Summary of the destination\")\n",
    "    travel_plan_output: Optional[Dict[str, Any]] = Field(default=None, description=\"Travel plan output of the destination\")\n",
    "\n",
    "    validation_errors: Optional[List[str]] = Field(default=None, description=\"Validation errors of the destination\")"
   ]
  },
  {
   "cell_type": "code",
   "execution_count": 5,
   "id": "ffdcdb76",
   "metadata": {},
   "outputs": [],
   "source": [
    "class UserQuery(BaseModel):\n",
    "    current_place: Optional[str] = Field(description=\"Current place of the user\")\n",
    "    destination: Optional[str] = Field(description=\"Destination the user wants to go\")\n",
    "    start_date: Optional[str] = Field(description=\"Start date of the trip\")\n",
    "    end_date: Optional[str] = Field(description=\"End date of the trip\")\n",
    "    num_days: Optional[int] = Field(description=\"Number of days of the trip\")\n",
    "    interests: Optional[List[str]] = Field(description=\"Interests of the user\")\n",
    "    native_currency: Optional[str] = Field(description=\"Native currency of the user\")\n",
    "    budget_range: Optional[str] = Field(description=\"Budget range of the trip\") "
   ]
  },
  {
   "cell_type": "code",
   "execution_count": 6,
   "id": "ad95c2c2",
   "metadata": {},
   "outputs": [],
   "source": [
    "from langchain_core.output_parsers import JsonOutputParser\n",
    "from langchain_core.prompts import PromptTemplate\n",
    "from langchain_core.runnables import RunnablePassthrough\n",
    "from datetime import datetime\n",
    "\n",
    "def parse_user_query(state: TravelAgentState) -> TravelAgentState:\n",
    "    json_output_parser = JsonOutputParser(pydantic_object=UserQuery)\n",
    "    format_instructions = json_output_parser.get_format_instructions()\n",
    "\n",
    "    prompt = PromptTemplate(\n",
    "        template=\"\"\"\n",
    "        You are an intelligent travel agent assistant. Extract and intelligently infer the following fields from the user query.\n",
    "\n",
    "        Current Date = {current_date}\n",
    "        \n",
    "        SMART EXTRACTION RULES:\n",
    "        1. **Current Place (MUST BE CITY)**:\n",
    "           - Always extract/convert to a specific city name\n",
    "           - If country/region given, convert to major city (USA→\"New York\", UK→\"London\", France→\"Paris\")\n",
    "           - If unclear which city, set to `null` for follow-up\n",
    "\n",
    "        2. **Destination (FLEXIBLE)**:\n",
    "           - Can be country, region, or city (\"France\", \"Paris\", \"Europe\", \"Tokyo\")\n",
    "           - Keep as user specified - don't force conversion to city\n",
    "\n",
    "        3. **Currency Intelligence**:\n",
    "           - Auto-detect from current_place city/country\n",
    "           - London→GBP, Paris→EUR, New York→USD, Tokyo→JPY, Mumbai→INR\n",
    "\n",
    "        4. **Interest Intelligence**:\n",
    "           - Infer from context: \"sightseeing\"→[\"attractions\"], \"food tour\"→[\"restaurants\",\"food\"]\n",
    "           - \"museums\"→[\"culture\",\"museums\"], \"beaches\"→[\"beaches\",\"relaxation\"]\n",
    "\n",
    "        5. **Date & Budget Intelligence**:\n",
    "           - Parse dates to YYYY-MM-DD format\n",
    "           - If start_date and num_days provided, calculate end_date automatically\n",
    "           - Extract budget hints: \"cheap\"→\"budget\", \"$1000\"→\"$1000\"\n",
    "\n",
    "        EXAMPLES:\n",
    "        \"I'm in London, want to visit France\" → current_place: \"London\", destination: \"France\", native_currency: \"GBP\"\n",
    "        \"From California to Japan\" → current_place: \"Los Angeles\", destination: \"Japan\", native_currency: \"USD\"\n",
    "        \"From India, going to Europe\" → current_place: null (unclear city), destination: \"Europe\", native_currency: null\n",
    "\n",
    "        User Query: {query}\n",
    "\n",
    "        Return a valid JSON object with the format:\n",
    "        {format_instructions}\n",
    "        \"\"\",\n",
    "        input_variables=[\"query\"],\n",
    "        partial_variables={\n",
    "            \"format_instructions\": format_instructions, \n",
    "            \"current_date\": datetime.now().strftime(\"%Y-%m-%d\")\n",
    "        }\n",
    "    )\n",
    "\n",
    "    llm_parser = ChatOpenAI(model=\"gpt-4o\", temperature=0)\n",
    "    chain = prompt | llm_parser | json_output_parser\n",
    "\n",
    "    latest_query = state.user_query[-1] if state.user_query else \"\"\n",
    "    parsed = chain.invoke(latest_query)\n",
    "\n",
    "    if parsed.get(\"current_place\"):\n",
    "        state.current_place = parsed.get(\"current_place\")\n",
    "    if parsed.get(\"destination\"):\n",
    "        state.destination = parsed.get(\"destination\")\n",
    "    if parsed.get(\"start_date\"):\n",
    "        state.start_date = parsed.get(\"start_date\")\n",
    "    if parsed.get(\"end_date\"):\n",
    "        state.end_date = parsed.get(\"end_date\")\n",
    "    if parsed.get(\"num_days\"):\n",
    "        state.num_days = parsed.get(\"num_days\")\n",
    "    if parsed.get(\"budget_range\"):\n",
    "        state.budget_range = parsed.get(\"budget_range\")\n",
    "    if parsed.get(\"interests\"):\n",
    "        state.interests = parsed.get(\"interests\")\n",
    "    if parsed.get(\"native_currency\"):\n",
    "        state.native_currency = parsed.get(\"native_currency\")\n",
    "\n",
    "    return state"
   ]
  },
  {
   "cell_type": "code",
   "execution_count": 7,
   "id": "acfdd45b",
   "metadata": {},
   "outputs": [],
   "source": [
    "def generate_follow_up_question(validation_errors: list, state: TravelAgentState) -> str:\n",
    "    known_info = []\n",
    "    if state.destination:\n",
    "        known_info.append(f\"going to {state.destination}\")\n",
    "    if state.start_date:\n",
    "        known_info.append(f\"starting {state.start_date}\")\n",
    "    if state.end_date:\n",
    "        known_info.append(f\"ending {state.end_date}\")\n",
    "    if state.num_days:\n",
    "        known_info.append(f\"for {state.num_days} days\")\n",
    "    \n",
    "    context = \" and \".join(known_info) if known_info else \"planning a trip\"\n",
    "    \n",
    "    prompt = PromptTemplate(\n",
    "        template=\"\"\"\n",
    "        You are a friendly travel agent assistant helping a user plan their trip. \n",
    "        \n",
    "        CONTEXT: The user is {context}.\n",
    "        MISSING INFORMATION: {missing_fields}\n",
    "        \n",
    "        Generate a single, natural, conversational follow-up question to get the MOST IMPORTANT missing information.\n",
    "        \n",
    "        GUIDELINES:\n",
    "        1. Ask for only ONE piece of information at a time\n",
    "        2. Be conversational and friendly\n",
    "        3. Provide examples when helpful\n",
    "        4. Prioritize in this order: current city → destination → dates → budget → currency → interests\n",
    "        5. For current city, emphasize it should be a specific city name\n",
    "        6. Keep it concise and natural\n",
    "        \n",
    "        EXAMPLES:\n",
    "        - \"Which city are you traveling from? (e.g., London, New York, Mumbai)\"\n",
    "        - \"What's your budget range for this trip? (e.g., $1000-2000, budget-friendly, luxury)\"\n",
    "        - \"What are you most interested in during your trip? (e.g., museums, food, beaches, nightlife)\"\n",
    "        \n",
    "        Generate only the question, no extra text:\n",
    "        \"\"\",\n",
    "        input_variables=[\"context\", \"missing_fields\"]\n",
    "    )\n",
    "    \n",
    "    llm_question = ChatOpenAI(model=\"gpt-4o\", temperature=0.3)\n",
    "    chain = prompt | llm_question\n",
    "    \n",
    "    missing_fields_text = \", \".join(validation_errors)\n",
    "    response = chain.invoke({\n",
    "        \"context\": context,\n",
    "        \"missing_fields\": missing_fields_text\n",
    "    })\n",
    "    \n",
    "    return response.content.strip()"
   ]
  },
  {
   "cell_type": "code",
   "execution_count": 8,
   "id": "293fdb1f",
   "metadata": {},
   "outputs": [],
   "source": [
    "def validate_and_collect(state: TravelAgentState) -> TravelAgentState:\n",
    "    while True:\n",
    "        # Check what's missing\n",
    "        errors = []\n",
    "        if state.current_place is None:\n",
    "            errors.append(\"Current place is required\")\n",
    "        if state.destination is None:\n",
    "            errors.append(\"Destination is required\")\n",
    "        if state.start_date is None:\n",
    "            errors.append(\"Start date is required\")\n",
    "        if state.end_date is None:\n",
    "            errors.append(\"End date is required\")\n",
    "        if state.num_days is None:\n",
    "            errors.append(\"Number of days is required\")\n",
    "        if state.native_currency is None:\n",
    "            errors.append(\"Native currency is required\")\n",
    "        if state.budget_range is None:\n",
    "            errors.append(\"Budget range is required\")\n",
    "        if state.interests is None:\n",
    "            errors.append(\"Interests are required\")\n",
    "\n",
    "        state.validation_errors = errors\n",
    "        \n",
    "        # If no errors, we're done\n",
    "        if not errors:\n",
    "            print(\"✅ All information collected successfully!\")\n",
    "            break\n",
    "            \n",
    "        # Ask for missing info\n",
    "        follow_up_question = generate_follow_up_question(errors, state)\n",
    "        print(f\"\\nAssistant: {follow_up_question}\")\n",
    "        \n",
    "        follow_up = input(\"You: \")\n",
    "        \n",
    "        if not follow_up.strip():\n",
    "            state.validation_errors = [\"EXIT\"]\n",
    "            print(\"Collection ended by user.\")\n",
    "            break\n",
    "            \n",
    "        # Add response and parse\n",
    "        state.user_query = (state.user_query or []) + [follow_up]\n",
    "        state = parse_user_query(state)\n",
    "    \n",
    "    return state"
   ]
  },
  {
   "cell_type": "code",
   "execution_count": 9,
   "id": "13da069a",
   "metadata": {},
   "outputs": [],
   "source": [
    "def parse_user_query_node(state: TravelAgentState) -> TravelAgentState:\n",
    "    print(\">>> Parsing input\")\n",
    "    return parse_user_query(state)\n",
    "\n",
    "def validate_and_collect_node(state: TravelAgentState) -> TravelAgentState:\n",
    "    print(\">>> Validating and collecting missing information\")\n",
    "    return validate_and_collect(state)"
   ]
  },
  {
   "cell_type": "code",
   "execution_count": 21,
   "id": "99812815",
   "metadata": {},
   "outputs": [],
   "source": [
    "from langgraph.graph import StateGraph, END\n",
    "\n",
    "def check_if_complete(state: TravelAgentState):\n",
    "    if state.validation_errors and \"EXIT\" in state.validation_errors:\n",
    "        return END\n",
    "    return END\n",
    "\n",
    "builder = StateGraph(TravelAgentState)\n",
    "builder.add_node(\"parse_user_input\", parse_user_query_node)\n",
    "builder.add_node(\"validate_and_collect\", validate_and_collect_node)\n",
    "\n",
    "builder.set_entry_point(\"parse_user_input\")\n",
    "builder.add_edge(\"parse_user_input\", \"validate_and_collect\")\n",
    "builder.add_conditional_edges(\"validate_and_collect\", check_if_complete)\n",
    "\n",
    "graph = builder.compile()"
   ]
  },
  {
   "cell_type": "code",
   "execution_count": 22,
   "id": "ada58bcb",
   "metadata": {},
   "outputs": [
    {
     "data": {
      "image/png": "[encoded data removed]",
      "text/plain": [
       "<IPython.core.display.Image object>"
      ]
     },
     "metadata": {},
     "output_type": "display_data"
    }
   ],
   "source": [
    "from IPython.display import Image, display\n",
    "display(Image(graph.get_graph().draw_mermaid_png()))"
   ]
  },
  {
   "cell_type": "code",
   "execution_count": 23,
   "id": "c3c8504d",
   "metadata": {},
   "outputs": [
    {
     "name": "stdout",
     "output_type": "stream",
     "text": [
      ">>> Parsing input\n",
      ">>> Validating and collecting missing information\n",
      "\n",
      "Assistant: \"Which city are you traveling from? (e.g., London, New York, Mumbai)\"\n",
      "\n",
      "Assistant: How many days are you planning to stay in Paris?\n",
      "✅ All information collected successfully!\n"
     ]
    }
   ],
   "source": [
    "state = TravelAgentState(user_query=[\"I want to go to Paris from tomorrow. I want to stay at hotel and eat at restaurants. I want to visit Eiffel Tower and Louvre Museum. My budget is 2 Lakhs.\"])\n",
    "final_state = graph.invoke(state)"
   ]
  },
  {
   "cell_type": "code",
   "execution_count": 20,
   "id": "5229410a",
   "metadata": {},
   "outputs": [
    {
     "name": "stdout",
     "output_type": "stream",
     "text": [
      "{'user_query': ['I want to go to Paris from tomorrow. I want to stay at hotel and eat at restaurants. I want to visit Eiffel Tower and Louvre Museum. My budget is 2 Lakhs.', 'DELHI', '6 days'], 'current_place': 'New Delhi', 'destination': 'Paris', 'start_date': '2025-06-15', 'end_date': '2025-06-21', 'num_days': 6, 'native_currency': 'INR', 'budget_range': '2 Lakhs', 'interests': ['attractions', 'restaurants', 'culture', 'museums'], 'validation_errors': []}\n"
     ]
    }
   ],
   "source": [
    "print(final_state)"
   ]
  },
  {
   "cell_type": "code",
   "execution_count": null,
   "id": "8a524aa0",
   "metadata": {},
   "outputs": [],
   "source": []
  }
 ],
 "metadata": {
  "kernelspec": {
   "display_name": "agenticaienv",
   "language": "python",
   "name": "python3"
  },
  "language_info": {
   "codemirror_mode": {
    "name": "ipython",
    "version": 3
   },
   "file_extension": ".py",
   "mimetype": "text/x-python",
   "name": "python",
   "nbconvert_exporter": "python",
   "pygments_lexer": "ipython3",
   "version": "3.10.16"
  }
 },
 "nbformat": 4,
 "nbformat_minor": 5
}
